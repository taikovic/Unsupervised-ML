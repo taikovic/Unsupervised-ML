{
 "cells": [
  {
   "cell_type": "markdown",
   "metadata": {},
   "source": [
    "# Clustering_Exo01"
   ]
  },
  {
   "cell_type": "markdown",
   "metadata": {},
   "source": [
    "## Load Data: "
   ]
  },
  {
   "cell_type": "code",
   "execution_count": 69,
   "metadata": {},
   "outputs": [],
   "source": [
    "import os \n",
    "import numpy as np\n",
    "import pandas as pd\n",
    "from pandas import DataFrame\n",
    "import matplotlib.pyplot as plt\n",
    "from sklearn.cluster import KMeans\n",
    "%matplotlib inline\n",
    "\n",
    "file='adresse.csv'\n",
    "df=DataFrame(pd.read_csv(file,sep=',',index_col=0))\n",
    "nord=df.iloc[:,0]\n",
    "est=df.iloc[:,1]"
   ]
  },
  {
   "cell_type": "markdown",
   "metadata": {},
   "source": [
    "## K-means: "
   ]
  },
  {
   "cell_type": "code",
   "execution_count": 70,
   "metadata": {},
   "outputs": [
    {
     "name": "stdout",
     "output_type": "stream",
     "text": [
      "[[-11.55555556 -15.22222222]\n",
      " [ 19.16666667  18.83333333]\n",
      " [  5.4        -44.        ]]\n"
     ]
    }
   ],
   "source": [
    "# initializing KMeans:\n",
    "kmeans=KMeans(n_clusters=3)\n",
    "# fitting with inputs: \n",
    "kmeans = kmeans.fit(df) \n",
    "# Predicting the clusters: \n",
    "labels=kmeans.predict(df)\n",
    "# Getting cluster centers\n",
    "C=kmeans.cluster_centers_\n",
    "print(C)"
   ]
  },
  {
   "cell_type": "code",
   "execution_count": 72,
   "metadata": {},
   "outputs": [
    {
     "data": {
      "image/png": "[encoded data removed]",
      "text/plain": [
       "<Figure size 432x288 with 1 Axes>"
      ]
     },
     "metadata": {
      "needs_background": "light"
     },
     "output_type": "display_data"
    }
   ],
   "source": [
    "plt.scatter(nord,est)\n",
    "plt.xlabel(\"nord\",fontsize=16)\n",
    "plt.ylabel(\"Est\",fontsize=16)\n",
    "plt.scatter(C[:,0],C[:,1],marker='*',c='r', s=100)\n",
    "plt.show()"
   ]
  }
 ],
 "metadata": {
  "kernelspec": {
   "display_name": "Python 3",
   "language": "python",
   "name": "python3"
  },
  "language_info": {
   "codemirror_mode": {
    "name": "ipython",
    "version": 3
   },
   "file_extension": ".py",
   "mimetype": "text/x-python",
   "name": "python",
   "nbconvert_exporter": "python",
   "pygments_lexer": "ipython3",
   "version": "3.7.1"
  }
 },
 "nbformat": 4,
 "nbformat_minor": 2
}
